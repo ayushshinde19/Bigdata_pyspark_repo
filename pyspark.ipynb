{
 "cells": [
  {
   "cell_type": "code",
   "execution_count": 1,
   "metadata": {},
   "outputs": [
    {
     "name": "stdout",
     "output_type": "stream",
     "text": [
      "3.5.5\n"
     ]
    }
   ],
   "source": [
    "import pyspark\n",
    "print(pyspark.__version__)"
   ]
  },
  {
   "cell_type": "code",
   "execution_count": 2,
   "metadata": {},
   "outputs": [],
   "source": [
    "from pyspark.sql import SparkSession"
   ]
  },
  {
   "cell_type": "code",
   "execution_count": 3,
   "metadata": {},
   "outputs": [],
   "source": [
    "ss =SparkSession.builder.appName(\"Ayush\").getOrCreate()"
   ]
  },
  {
   "cell_type": "code",
   "execution_count": 4,
   "metadata": {},
   "outputs": [
    {
     "name": "stdout",
     "output_type": "stream",
     "text": [
      "+----------------+--------+-----+------------+-----------------+--------------+--------------+--------------+----------------+----------------+-----------+----------+\n",
      "|             _c0|     _c1|  _c2|         _c3|              _c4|           _c5|           _c6|           _c7|             _c8|             _c9|       _c10|      _c11|\n",
      "+----------------+--------+-----+------------+-----------------+--------------+--------------+--------------+----------------+----------------+-----------+----------+\n",
      "|Transaction_date| Product|Price|Payment_Type|             Name|          City|        State |       Country| Account_Created|      Last_Login|  Latitude | Longitude|\n",
      "|01-02-2009 06:17|Product1| 1200|  Mastercard|         carolina|      Basildon|       England|United Kingdom|01-02-2009 06:00|01-02-2009 06:08|       51.5|-1.1166667|\n",
      "|01-02-2009 04:53|Product1| 1200|        Visa|           Betina|     Parkville|            MO| United States|01-02-2009 04:42|01-02-2009 07:49|     39.195| -94.68194|\n",
      "|01-02-2009 13:08|Product1| 1200|  Mastercard|Federica e Andrea|       Astoria|            OR| United States|01-01-2009 16:21|01-03-2009 12:32|   46.18806|   -123.83|\n",
      "|01-03-2009 14:44|Product1| 1200|        Visa|            Gouya|        Echuca|      Victoria|     Australia|   9/25/05 21:13|01-03-2009 14:22|-36.1333333|    144.75|\n",
      "|01-04-2009 12:56|Product2| 3600|        Visa|           Gerd W|Cahaba Heights|            AL| United States|  11/15/08 15:47|01-04-2009 12:45|   33.52056|  -86.8025|\n",
      "|01-04-2009 13:19|Product1| 1200|        Visa|         LAURENCE|     Mickleton|            NJ| United States|   9/24/08 15:19|01-04-2009 13:04|      39.79| -75.23806|\n",
      "|01-04-2009 20:11|Product1| 1200|  Mastercard|            Fleur|        Peoria|            IL| United States|01-03-2009 09:38|01-04-2009 19:45|   40.69361| -89.58889|\n",
      "|01-02-2009 20:09|Product1| 1200|  Mastercard|             adam|        Martin|            TN| United States|01-02-2009 17:43|01-04-2009 20:01|   36.34333| -88.85028|\n",
      "|01-04-2009 13:17|Product1| 1200|  Mastercard|  Renee Elisabeth|      Tel Aviv|      Tel Aviv|        Israel|01-04-2009 13:03|01-04-2009 22:10| 32.0666667|34.7666667|\n",
      "|01-04-2009 14:11|Product1| 1200|        Visa|            Aidan|        Chatou| Ile-de-France|        France|06-03-2008 04:22|01-05-2009 01:17| 48.8833333|      2.15|\n",
      "|01-05-2009 02:42|Product1| 1200|      Diners|            Stacy|      New York|            NY| United States|01-05-2009 02:23|01-05-2009 04:59|   40.71417| -74.00639|\n",
      "|01-05-2009 05:39|Product1| 1200|        Amex|            Heidi|     Eindhoven| Noord-Brabant|   Netherlands|01-05-2009 04:55|01-05-2009 08:15|      51.45| 5.4666667|\n",
      "|01-02-2009 09:16|Product1| 1200|  Mastercard|             Sean|  Shavano Park|            TX| United States|01-02-2009 08:32|01-05-2009 09:05|   29.42389| -98.49333|\n",
      "|01-05-2009 10:08|Product1| 1200|        Visa|          Georgia|         Eagle|            ID| United States|11-11-2008 15:53|01-05-2009 10:05|   43.69556|-116.35306|\n",
      "|01-02-2009 14:18|Product1| 1200|        Visa|          Richard|     Riverside|            NJ| United States|12-09-2008 12:07|01-05-2009 11:01|   40.03222| -74.95778|\n",
      "|01-04-2009 01:05|Product1| 1200|      Diners|           Leanne|   Julianstown|         Meath|       Ireland|01-04-2009 00:00|01-05-2009 13:36| 53.6772222|-6.3191667|\n",
      "|01-05-2009 11:37|Product1| 1200|        Visa|            Janet|        Ottawa|       Ontario|        Canada|01-05-2009 09:35|01-05-2009 19:24| 45.4166667|     -75.7|\n",
      "|01-06-2009 05:02|Product1| 1200|      Diners|          barbara|     Hyderabad|Andhra Pradesh|         India|01-06-2009 02:41|01-06-2009 07:52| 17.3833333|78.4666667|\n",
      "|01-06-2009 07:45|Product2| 3600|        Visa|           Sabine|        London|       England|United Kingdom|01-06-2009 07:00|01-06-2009 09:17|   51.52721|   0.14559|\n",
      "+----------------+--------+-----+------------+-----------------+--------------+--------------+--------------+----------------+----------------+-----------+----------+\n",
      "only showing top 20 rows\n",
      "\n"
     ]
    }
   ],
   "source": [
    "data = ss.read.csv(r\"C:\\Users\\Ayush\\Downloads\\SalesJan2009.csv\")\n",
    "data.show()"
   ]
  },
  {
   "cell_type": "code",
   "execution_count": 5,
   "metadata": {},
   "outputs": [
    {
     "data": {
      "text/plain": [
       "[Row(_c0='Transaction_date', _c1='Product', _c2='Price', _c3='Payment_Type', _c4='Name', _c5='City', _c6='State ', _c7='Country', _c8='Account_Created', _c9='Last_Login', _c10='Latitude ', _c11='Longitude'),\n",
       " Row(_c0='01-02-2009 06:17', _c1='Product1', _c2='1200', _c3='Mastercard', _c4='carolina', _c5='Basildon', _c6='England', _c7='United Kingdom', _c8='01-02-2009 06:00', _c9='01-02-2009 06:08', _c10='51.5', _c11='-1.1166667'),\n",
       " Row(_c0='01-02-2009 04:53', _c1='Product1', _c2='1200', _c3='Visa', _c4='Betina', _c5='Parkville', _c6='MO', _c7='United States', _c8='01-02-2009 04:42', _c9='01-02-2009 07:49', _c10='39.195', _c11='-94.68194'),\n",
       " Row(_c0='01-02-2009 13:08', _c1='Product1', _c2='1200', _c3='Mastercard', _c4='Federica e Andrea', _c5='Astoria', _c6='OR', _c7='United States', _c8='01-01-2009 16:21', _c9='01-03-2009 12:32', _c10='46.18806', _c11='-123.83'),\n",
       " Row(_c0='01-03-2009 14:44', _c1='Product1', _c2='1200', _c3='Visa', _c4='Gouya', _c5='Echuca', _c6='Victoria', _c7='Australia', _c8='9/25/05 21:13', _c9='01-03-2009 14:22', _c10='-36.1333333', _c11='144.75'),\n",
       " Row(_c0='01-04-2009 12:56', _c1='Product2', _c2='3600', _c3='Visa', _c4='Gerd W', _c5='Cahaba Heights', _c6='AL', _c7='United States', _c8='11/15/08 15:47', _c9='01-04-2009 12:45', _c10='33.52056', _c11='-86.8025'),\n",
       " Row(_c0='01-04-2009 13:19', _c1='Product1', _c2='1200', _c3='Visa', _c4='LAURENCE', _c5='Mickleton', _c6='NJ', _c7='United States', _c8='9/24/08 15:19', _c9='01-04-2009 13:04', _c10='39.79', _c11='-75.23806'),\n",
       " Row(_c0='01-04-2009 20:11', _c1='Product1', _c2='1200', _c3='Mastercard', _c4='Fleur', _c5='Peoria', _c6='IL', _c7='United States', _c8='01-03-2009 09:38', _c9='01-04-2009 19:45', _c10='40.69361', _c11='-89.58889'),\n",
       " Row(_c0='01-02-2009 20:09', _c1='Product1', _c2='1200', _c3='Mastercard', _c4='adam', _c5='Martin', _c6='TN', _c7='United States', _c8='01-02-2009 17:43', _c9='01-04-2009 20:01', _c10='36.34333', _c11='-88.85028'),\n",
       " Row(_c0='01-04-2009 13:17', _c1='Product1', _c2='1200', _c3='Mastercard', _c4='Renee Elisabeth', _c5='Tel Aviv', _c6='Tel Aviv', _c7='Israel', _c8='01-04-2009 13:03', _c9='01-04-2009 22:10', _c10='32.0666667', _c11='34.7666667')]"
      ]
     },
     "execution_count": 5,
     "metadata": {},
     "output_type": "execute_result"
    }
   ],
   "source": [
    "data.head(10)"
   ]
  },
  {
   "cell_type": "code",
   "execution_count": 6,
   "metadata": {},
   "outputs": [],
   "source": [
    "data = ss.read.option(\"header\",\"True\").csv(r\"C:\\Users\\Ayush\\Downloads\\SalesJan2009.csv\")"
   ]
  },
  {
   "cell_type": "code",
   "execution_count": 7,
   "metadata": {},
   "outputs": [
    {
     "name": "stdout",
     "output_type": "stream",
     "text": [
      "+----------------+--------+-----+------------+-----------------+--------------+--------------+--------------+----------------+----------------+-----------+----------+\n",
      "|Transaction_date| Product|Price|Payment_Type|             Name|          City|        State |       Country| Account_Created|      Last_Login|  Latitude | Longitude|\n",
      "+----------------+--------+-----+------------+-----------------+--------------+--------------+--------------+----------------+----------------+-----------+----------+\n",
      "|01-02-2009 06:17|Product1| 1200|  Mastercard|         carolina|      Basildon|       England|United Kingdom|01-02-2009 06:00|01-02-2009 06:08|       51.5|-1.1166667|\n",
      "|01-02-2009 04:53|Product1| 1200|        Visa|           Betina|     Parkville|            MO| United States|01-02-2009 04:42|01-02-2009 07:49|     39.195| -94.68194|\n",
      "|01-02-2009 13:08|Product1| 1200|  Mastercard|Federica e Andrea|       Astoria|            OR| United States|01-01-2009 16:21|01-03-2009 12:32|   46.18806|   -123.83|\n",
      "|01-03-2009 14:44|Product1| 1200|        Visa|            Gouya|        Echuca|      Victoria|     Australia|   9/25/05 21:13|01-03-2009 14:22|-36.1333333|    144.75|\n",
      "|01-04-2009 12:56|Product2| 3600|        Visa|           Gerd W|Cahaba Heights|            AL| United States|  11/15/08 15:47|01-04-2009 12:45|   33.52056|  -86.8025|\n",
      "|01-04-2009 13:19|Product1| 1200|        Visa|         LAURENCE|     Mickleton|            NJ| United States|   9/24/08 15:19|01-04-2009 13:04|      39.79| -75.23806|\n",
      "|01-04-2009 20:11|Product1| 1200|  Mastercard|            Fleur|        Peoria|            IL| United States|01-03-2009 09:38|01-04-2009 19:45|   40.69361| -89.58889|\n",
      "|01-02-2009 20:09|Product1| 1200|  Mastercard|             adam|        Martin|            TN| United States|01-02-2009 17:43|01-04-2009 20:01|   36.34333| -88.85028|\n",
      "|01-04-2009 13:17|Product1| 1200|  Mastercard|  Renee Elisabeth|      Tel Aviv|      Tel Aviv|        Israel|01-04-2009 13:03|01-04-2009 22:10| 32.0666667|34.7666667|\n",
      "|01-04-2009 14:11|Product1| 1200|        Visa|            Aidan|        Chatou| Ile-de-France|        France|06-03-2008 04:22|01-05-2009 01:17| 48.8833333|      2.15|\n",
      "|01-05-2009 02:42|Product1| 1200|      Diners|            Stacy|      New York|            NY| United States|01-05-2009 02:23|01-05-2009 04:59|   40.71417| -74.00639|\n",
      "|01-05-2009 05:39|Product1| 1200|        Amex|            Heidi|     Eindhoven| Noord-Brabant|   Netherlands|01-05-2009 04:55|01-05-2009 08:15|      51.45| 5.4666667|\n",
      "|01-02-2009 09:16|Product1| 1200|  Mastercard|             Sean|  Shavano Park|            TX| United States|01-02-2009 08:32|01-05-2009 09:05|   29.42389| -98.49333|\n",
      "|01-05-2009 10:08|Product1| 1200|        Visa|          Georgia|         Eagle|            ID| United States|11-11-2008 15:53|01-05-2009 10:05|   43.69556|-116.35306|\n",
      "|01-02-2009 14:18|Product1| 1200|        Visa|          Richard|     Riverside|            NJ| United States|12-09-2008 12:07|01-05-2009 11:01|   40.03222| -74.95778|\n",
      "|01-04-2009 01:05|Product1| 1200|      Diners|           Leanne|   Julianstown|         Meath|       Ireland|01-04-2009 00:00|01-05-2009 13:36| 53.6772222|-6.3191667|\n",
      "|01-05-2009 11:37|Product1| 1200|        Visa|            Janet|        Ottawa|       Ontario|        Canada|01-05-2009 09:35|01-05-2009 19:24| 45.4166667|     -75.7|\n",
      "|01-06-2009 05:02|Product1| 1200|      Diners|          barbara|     Hyderabad|Andhra Pradesh|         India|01-06-2009 02:41|01-06-2009 07:52| 17.3833333|78.4666667|\n",
      "|01-06-2009 07:45|Product2| 3600|        Visa|           Sabine|        London|       England|United Kingdom|01-06-2009 07:00|01-06-2009 09:17|   51.52721|   0.14559|\n",
      "|01-02-2009 07:35|Product1| 1200|      Diners|             Hani|Salt Lake City|            UT| United States|   12/30/08 5:44|01-06-2009 10:52|   40.76083|-111.89028|\n",
      "+----------------+--------+-----+------------+-----------------+--------------+--------------+--------------+----------------+----------------+-----------+----------+\n",
      "only showing top 20 rows\n",
      "\n"
     ]
    }
   ],
   "source": [
    "data.show()"
   ]
  },
  {
   "cell_type": "code",
   "execution_count": 8,
   "metadata": {},
   "outputs": [
    {
     "name": "stdout",
     "output_type": "stream",
     "text": [
      "+--------+--------------+--------------+-----+\n",
      "| Product|       Country|          city|Price|\n",
      "+--------+--------------+--------------+-----+\n",
      "|Product1|United Kingdom|      Basildon| 1200|\n",
      "|Product1| United States|     Parkville| 1200|\n",
      "|Product1| United States|       Astoria| 1200|\n",
      "|Product1|     Australia|        Echuca| 1200|\n",
      "|Product2| United States|Cahaba Heights| 3600|\n",
      "|Product1| United States|     Mickleton| 1200|\n",
      "|Product1| United States|        Peoria| 1200|\n",
      "|Product1| United States|        Martin| 1200|\n",
      "|Product1|        Israel|      Tel Aviv| 1200|\n",
      "|Product1|        France|        Chatou| 1200|\n",
      "|Product1| United States|      New York| 1200|\n",
      "|Product1|   Netherlands|     Eindhoven| 1200|\n",
      "|Product1| United States|  Shavano Park| 1200|\n",
      "|Product1| United States|         Eagle| 1200|\n",
      "|Product1| United States|     Riverside| 1200|\n",
      "|Product1|       Ireland|   Julianstown| 1200|\n",
      "|Product1|        Canada|        Ottawa| 1200|\n",
      "|Product1|         India|     Hyderabad| 1200|\n",
      "|Product2|United Kingdom|        London| 3600|\n",
      "|Product1| United States|Salt Lake City| 1200|\n",
      "+--------+--------------+--------------+-----+\n",
      "only showing top 20 rows\n",
      "\n"
     ]
    }
   ],
   "source": [
    "data.select([\"Product\", \"Country\",\"city\",\"Price\"]).show()"
   ]
  },
  {
   "cell_type": "code",
   "execution_count": 10,
   "metadata": {},
   "outputs": [
    {
     "name": "stdout",
     "output_type": "stream",
     "text": [
      "+--------+--------------+-----+\n",
      "| Product|       Country|Price|\n",
      "+--------+--------------+-----+\n",
      "|Product1|United Kingdom| 1200|\n",
      "|Product1| United States| 1200|\n",
      "|Product1| United States| 1200|\n",
      "|Product1|     Australia| 1200|\n",
      "|Product2| United States| 3600|\n",
      "|Product1| United States| 1200|\n",
      "|Product1| United States| 1200|\n",
      "|Product1| United States| 1200|\n",
      "|Product1|        Israel| 1200|\n",
      "|Product1|        France| 1200|\n",
      "|Product1| United States| 1200|\n",
      "|Product1|   Netherlands| 1200|\n",
      "|Product1| United States| 1200|\n",
      "|Product1| United States| 1200|\n",
      "|Product1| United States| 1200|\n",
      "|Product1|       Ireland| 1200|\n",
      "|Product1|        Canada| 1200|\n",
      "|Product1|         India| 1200|\n",
      "|Product2|United Kingdom| 3600|\n",
      "|Product1| United States| 1200|\n",
      "+--------+--------------+-----+\n",
      "only showing top 20 rows\n",
      "\n"
     ]
    }
   ],
   "source": [
    "data.select([\"Product\",\"Country\",\"Price\"]).show()"
   ]
  },
  {
   "cell_type": "code",
   "execution_count": 11,
   "metadata": {},
   "outputs": [],
   "source": [
    "import pyspark"
   ]
  },
  {
   "cell_type": "code",
   "execution_count": 13,
   "metadata": {},
   "outputs": [],
   "source": [
    "from pyspark.sql import SparkSession"
   ]
  },
  {
   "cell_type": "code",
   "execution_count": 14,
   "metadata": {},
   "outputs": [],
   "source": [
    "ss = SparkSession.builder.appName(\"Ayush\").getOrCreate()"
   ]
  },
  {
   "cell_type": "code",
   "execution_count": 15,
   "metadata": {},
   "outputs": [],
   "source": [
    "data = ss.read.csv(r\"C:\\Users\\Ayush\\Downloads\\Iris - Iris.csv\")\n"
   ]
  },
  {
   "cell_type": "code",
   "execution_count": 16,
   "metadata": {},
   "outputs": [],
   "source": [
    "iris = ss.read.csv(r\"C:\\Users\\Ayush\\Downloads\\Iris - Iris.csv\")"
   ]
  },
  {
   "cell_type": "code",
   "execution_count": 17,
   "metadata": {},
   "outputs": [],
   "source": [
    "iris = ss.read.option(\"header\",\"true\").csv(r\"C:\\Users\\Ayush\\Downloads\\Iris - Iris.csv\")"
   ]
  },
  {
   "cell_type": "code",
   "execution_count": 18,
   "metadata": {},
   "outputs": [
    {
     "name": "stdout",
     "output_type": "stream",
     "text": [
      "+---+-------------+------------+-------------+------------+-----------+\n",
      "| Id|SepalLengthCm|SepalWidthCm|PetalLengthCm|PetalWidthCm|    Species|\n",
      "+---+-------------+------------+-------------+------------+-----------+\n",
      "|  1|          5.1|         3.5|          1.4|         0.2|Iris-setosa|\n",
      "|  2|          4.9|           3|          1.4|         0.2|Iris-setosa|\n",
      "|  3|          4.7|         3.2|          1.3|         0.2|Iris-setosa|\n",
      "|  4|          4.6|         3.1|          1.5|         0.2|Iris-setosa|\n",
      "|  5|            5|         3.6|          1.4|         0.2|Iris-setosa|\n",
      "|  6|          5.4|         3.9|          1.7|         0.4|Iris-setosa|\n",
      "|  7|          4.6|         3.4|          1.4|         0.3|Iris-setosa|\n",
      "|  8|            5|         3.4|          1.5|         0.2|Iris-setosa|\n",
      "|  9|          4.4|         2.9|          1.4|         0.2|Iris-setosa|\n",
      "| 10|          4.9|         3.1|          1.5|         0.1|Iris-setosa|\n",
      "| 11|          5.4|         3.7|          1.5|         0.2|Iris-setosa|\n",
      "| 12|          4.8|         3.4|          1.6|         0.2|Iris-setosa|\n",
      "| 13|          4.8|           3|          1.4|         0.1|Iris-setosa|\n",
      "| 14|          4.3|           3|          1.1|         0.1|Iris-setosa|\n",
      "| 15|          5.8|           4|          1.2|         0.2|Iris-setosa|\n",
      "| 16|          5.7|         4.4|          1.5|         0.4|Iris-setosa|\n",
      "| 17|          5.4|         3.9|          1.3|         0.4|Iris-setosa|\n",
      "| 18|          5.1|         3.5|          1.4|         0.3|Iris-setosa|\n",
      "| 19|          5.7|         3.8|          1.7|         0.3|Iris-setosa|\n",
      "| 20|          5.1|         3.8|          1.5|         0.3|Iris-setosa|\n",
      "+---+-------------+------------+-------------+------------+-----------+\n",
      "only showing top 20 rows\n",
      "\n"
     ]
    }
   ],
   "source": [
    "iris.show()    "
   ]
  },
  {
   "cell_type": "code",
   "execution_count": 19,
   "metadata": {},
   "outputs": [
    {
     "data": {
      "text/plain": [
       "['Id',\n",
       " 'SepalLengthCm',\n",
       " 'SepalWidthCm',\n",
       " 'PetalLengthCm',\n",
       " 'PetalWidthCm',\n",
       " 'Species']"
      ]
     },
     "execution_count": 19,
     "metadata": {},
     "output_type": "execute_result"
    }
   ],
   "source": [
    "iris.columns"
   ]
  },
  {
   "cell_type": "code",
   "execution_count": 20,
   "metadata": {},
   "outputs": [
    {
     "name": "stdout",
     "output_type": "stream",
     "text": [
      "root\n",
      " |-- Id: string (nullable = true)\n",
      " |-- SepalLengthCm: string (nullable = true)\n",
      " |-- SepalWidthCm: string (nullable = true)\n",
      " |-- PetalLengthCm: string (nullable = true)\n",
      " |-- PetalWidthCm: string (nullable = true)\n",
      " |-- Species: string (nullable = true)\n",
      "\n"
     ]
    }
   ],
   "source": [
    "iris.printSchema()"
   ]
  },
  {
   "cell_type": "code",
   "execution_count": 21,
   "metadata": {},
   "outputs": [],
   "source": [
    "iris = iris.withColumnRenamed(\"SepalLengthCm\",\"sepal_length\")\\\n",
    ".withColumnRenamed(\"SepalWidthCm\",\"Sepal_width\")\\\n",
    ".withColumnRenamed(\"PetalLengthCm\",\"Petal_length\")\\\n",
    ".withColumnRenamed(\"PetalWidthCm\",\"Petal_width\")\\\n",
    ".withColumnRenamed(\"Species\",\"class\")"
   ]
  },
  {
   "cell_type": "code",
   "execution_count": 22,
   "metadata": {},
   "outputs": [
    {
     "name": "stdout",
     "output_type": "stream",
     "text": [
      "+---+-----------+------------+-----------+-----------+\n",
      "| Id|Sepal_width|Petal_length|Petal_width|      class|\n",
      "+---+-----------+------------+-----------+-----------+\n",
      "|  1|        3.5|         1.4|        0.2|Iris-setosa|\n",
      "|  2|          3|         1.4|        0.2|Iris-setosa|\n",
      "|  3|        3.2|         1.3|        0.2|Iris-setosa|\n",
      "|  4|        3.1|         1.5|        0.2|Iris-setosa|\n",
      "|  5|        3.6|         1.4|        0.2|Iris-setosa|\n",
      "|  6|        3.9|         1.7|        0.4|Iris-setosa|\n",
      "|  7|        3.4|         1.4|        0.3|Iris-setosa|\n",
      "|  8|        3.4|         1.5|        0.2|Iris-setosa|\n",
      "|  9|        2.9|         1.4|        0.2|Iris-setosa|\n",
      "| 10|        3.1|         1.5|        0.1|Iris-setosa|\n",
      "| 11|        3.7|         1.5|        0.2|Iris-setosa|\n",
      "| 12|        3.4|         1.6|        0.2|Iris-setosa|\n",
      "| 13|          3|         1.4|        0.1|Iris-setosa|\n",
      "| 14|          3|         1.1|        0.1|Iris-setosa|\n",
      "| 15|          4|         1.2|        0.2|Iris-setosa|\n",
      "| 16|        4.4|         1.5|        0.4|Iris-setosa|\n",
      "| 17|        3.9|         1.3|        0.4|Iris-setosa|\n",
      "| 18|        3.5|         1.4|        0.3|Iris-setosa|\n",
      "| 19|        3.8|         1.7|        0.3|Iris-setosa|\n",
      "| 20|        3.8|         1.5|        0.3|Iris-setosa|\n",
      "+---+-----------+------------+-----------+-----------+\n",
      "only showing top 20 rows\n",
      "\n"
     ]
    }
   ],
   "source": [
    "#to drop sepal length column and showing\n",
    "\n",
    "iris.drop(\"sepal_length\").show()"
   ]
  },
  {
   "cell_type": "code",
   "execution_count": 23,
   "metadata": {},
   "outputs": [],
   "source": [
    "#add new column as multiplication of sepal_length and sepal_width\n",
    "from pyspark.sql.functions import col\n",
    "\n",
    "iris = iris.withColumn(\"sl*sw\", col(\"sepal_length\") * col(\"Sepal_width\"))"
   ]
  },
  {
   "cell_type": "code",
   "execution_count": 24,
   "metadata": {},
   "outputs": [
    {
     "name": "stdout",
     "output_type": "stream",
     "text": [
      "+---+------------+-----------+------------+-----------+-----------+------------------+\n",
      "| Id|sepal_length|Sepal_width|Petal_length|Petal_width|      class|             sl*sw|\n",
      "+---+------------+-----------+------------+-----------+-----------+------------------+\n",
      "|  1|         5.1|        3.5|         1.4|        0.2|Iris-setosa|17.849999999999998|\n",
      "|  2|         4.9|          3|         1.4|        0.2|Iris-setosa|14.700000000000001|\n",
      "|  3|         4.7|        3.2|         1.3|        0.2|Iris-setosa|15.040000000000001|\n",
      "|  4|         4.6|        3.1|         1.5|        0.2|Iris-setosa|             14.26|\n",
      "|  5|           5|        3.6|         1.4|        0.2|Iris-setosa|              18.0|\n",
      "|  6|         5.4|        3.9|         1.7|        0.4|Iris-setosa|21.060000000000002|\n",
      "|  7|         4.6|        3.4|         1.4|        0.3|Iris-setosa|15.639999999999999|\n",
      "|  8|           5|        3.4|         1.5|        0.2|Iris-setosa|              17.0|\n",
      "|  9|         4.4|        2.9|         1.4|        0.2|Iris-setosa|             12.76|\n",
      "| 10|         4.9|        3.1|         1.5|        0.1|Iris-setosa|15.190000000000001|\n",
      "| 11|         5.4|        3.7|         1.5|        0.2|Iris-setosa|19.980000000000004|\n",
      "| 12|         4.8|        3.4|         1.6|        0.2|Iris-setosa|             16.32|\n",
      "| 13|         4.8|          3|         1.4|        0.1|Iris-setosa|14.399999999999999|\n",
      "| 14|         4.3|          3|         1.1|        0.1|Iris-setosa|12.899999999999999|\n",
      "| 15|         5.8|          4|         1.2|        0.2|Iris-setosa|              23.2|\n",
      "| 16|         5.7|        4.4|         1.5|        0.4|Iris-setosa|25.080000000000002|\n",
      "| 17|         5.4|        3.9|         1.3|        0.4|Iris-setosa|21.060000000000002|\n",
      "| 18|         5.1|        3.5|         1.4|        0.3|Iris-setosa|17.849999999999998|\n",
      "| 19|         5.7|        3.8|         1.7|        0.3|Iris-setosa|             21.66|\n",
      "| 20|         5.1|        3.8|         1.5|        0.3|Iris-setosa|             19.38|\n",
      "+---+------------+-----------+------------+-----------+-----------+------------------+\n",
      "only showing top 20 rows\n",
      "\n"
     ]
    }
   ],
   "source": [
    "iris.show()"
   ]
  },
  {
   "cell_type": "code",
   "execution_count": 25,
   "metadata": {},
   "outputs": [
    {
     "name": "stdout",
     "output_type": "stream",
     "text": [
      "+---+------------+-----------+------------+-----------+-----------+------------------+\n",
      "| Id|sepal_length|Sepal_width|Petal_length|Petal_width|      class|             sl*sw|\n",
      "+---+------------+-----------+------------+-----------+-----------+------------------+\n",
      "| 16|         5.7|        4.4|         1.5|        0.4|Iris-setosa|25.080000000000002|\n",
      "| 33|         5.2|        4.1|         1.5|        0.1|Iris-setosa|             21.32|\n",
      "| 34|         5.5|        4.2|         1.4|        0.2|Iris-setosa|              23.1|\n",
      "+---+------------+-----------+------------+-----------+-----------+------------------+\n",
      "\n"
     ]
    }
   ],
   "source": [
    "iris.filter(\"sepal_width > 4.0\").show()"
   ]
  },
  {
   "cell_type": "code",
   "execution_count": 26,
   "metadata": {},
   "outputs": [
    {
     "name": "stdout",
     "output_type": "stream",
     "text": [
      "+---+------------+-----------+------------+-----------+---------------+------------------+\n",
      "| Id|sepal_length|Sepal_width|Petal_length|Petal_width|          class|             sl*sw|\n",
      "+---+------------+-----------+------------+-----------+---------------+------------------+\n",
      "| 51|           7|        3.2|         4.7|        1.4|Iris-versicolor|22.400000000000002|\n",
      "| 52|         6.4|        3.2|         4.5|        1.5|Iris-versicolor|20.480000000000004|\n",
      "| 53|         6.9|        3.1|         4.9|        1.5|Iris-versicolor|             21.39|\n",
      "| 54|         5.5|        2.3|           4|        1.3|Iris-versicolor|12.649999999999999|\n",
      "| 55|         6.5|        2.8|         4.6|        1.5|Iris-versicolor|              18.2|\n",
      "| 56|         5.7|        2.8|         4.5|        1.3|Iris-versicolor|15.959999999999999|\n",
      "| 57|         6.3|        3.3|         4.7|        1.6|Iris-versicolor|             20.79|\n",
      "| 58|         4.9|        2.4|         3.3|          1|Iris-versicolor|             11.76|\n",
      "| 59|         6.6|        2.9|         4.6|        1.3|Iris-versicolor|19.139999999999997|\n",
      "| 60|         5.2|        2.7|         3.9|        1.4|Iris-versicolor|14.040000000000001|\n",
      "| 61|           5|          2|         3.5|          1|Iris-versicolor|              10.0|\n",
      "| 62|         5.9|          3|         4.2|        1.5|Iris-versicolor|17.700000000000003|\n",
      "| 63|           6|        2.2|           4|          1|Iris-versicolor|13.200000000000001|\n",
      "| 64|         6.1|        2.9|         4.7|        1.4|Iris-versicolor|17.689999999999998|\n",
      "| 65|         5.6|        2.9|         3.6|        1.3|Iris-versicolor|             16.24|\n",
      "| 66|         6.7|        3.1|         4.4|        1.4|Iris-versicolor|             20.77|\n",
      "| 67|         5.6|          3|         4.5|        1.5|Iris-versicolor|16.799999999999997|\n",
      "| 68|         5.8|        2.7|         4.1|          1|Iris-versicolor|             15.66|\n",
      "| 69|         6.2|        2.2|         4.5|        1.5|Iris-versicolor|13.640000000000002|\n",
      "| 70|         5.6|        2.5|         3.9|        1.1|Iris-versicolor|              14.0|\n",
      "+---+------------+-----------+------------+-----------+---------------+------------------+\n",
      "only showing top 20 rows\n",
      "\n"
     ]
    }
   ],
   "source": [
    "iris.filter(iris[\"class\"]==\"Iris-versicolor\").show()"
   ]
  }
 ],
 "metadata": {
  "kernelspec": {
   "display_name": "base",
   "language": "python",
   "name": "python3"
  },
  "language_info": {
   "codemirror_mode": {
    "name": "ipython",
    "version": 3
   },
   "file_extension": ".py",
   "mimetype": "text/x-python",
   "name": "python",
   "nbconvert_exporter": "python",
   "pygments_lexer": "ipython3",
   "version": "3.12.7"
  }
 },
 "nbformat": 4,
 "nbformat_minor": 2
}
